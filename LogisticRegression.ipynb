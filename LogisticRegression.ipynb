{
 "cells": [
  {
   "cell_type": "markdown",
   "metadata": {},
   "source": [
    "### Logistic Regression\n",
    "Logistic regression is common method for solving binary classification problem. Logistic regression explains the relationship between one dependent binary variable and independent variables. It predicts the probability of occurence of an event.\n",
    "\n",
    "#### Linear Regression vs. Logistic Regression\n",
    "Linear regression gives continuous output like house prices while logistic regression supplies a constant output like a patient is cancer or not. Linear regression uses Ordinary Least Square (OLS) while logistic regression uses Maximum Likelihood Estimation (MLE) method.\n",
    "![title](images/linearLogistic.png)\n",
    "MLE is a maximization method which is used to determine the parameters that are most likely to produce observed data. These parameters can be used to predict the data needed. On the other hand, OLS is about fitting the regression line on data points that has the least square error.\n",
    "\n",
    "#### Sigmoid Function\n",
    "Sigmoid is useful to get values between 0 and 1.\n",
    "\n",
    "#### Accuracy\n",
    "Accuracy is an evaluation metric for classification models. It is measured by (Number of Correct Predictions)/(Total Number of Predictions). Accuracy should be checked carefully when there is a class-imbalanced data set which has significantly different frequency between positive and negative labels in binary classification problem.\n",
    "\n",
    "*References: https://www.datacamp.com/community/tutorials/understanding-logistic-regression-python"
   ]
  },
  {
   "cell_type": "code",
   "execution_count": 20,
   "metadata": {},
   "outputs": [],
   "source": [
    "%matplotlib inline\n",
    "import matplotlib as mpl\n",
    "import matplotlib.pyplot as plt\n",
    "import numpy as np\n",
    "import scipy as sc\n",
    "import pandas as pd\n",
    "\n",
    "df_iris = pd.read_csv(u'data/iris.txt',sep=' ')\n",
    "\n",
    "target = np.array(df_iris['c'])\n",
    "features = np.array(df_iris[['sl','sw','pl','pw']])\n",
    "\n",
    "#print(\"features: \", features)"
   ]
  },
  {
   "cell_type": "code",
   "execution_count": 21,
   "metadata": {},
   "outputs": [],
   "source": [
    "# multiplication of two matrix.\n",
    "#this is our model for the forward pass.\n",
    "def f(x, w):\n",
    "    return x.dot(w)\n",
    "\n",
    "# Error function. f_est is our predicted value\n",
    "def E(y, f_est):\n",
    "    return np.sum((y-f_est)**2)"
   ]
  },
  {
   "cell_type": "code",
   "execution_count": 34,
   "metadata": {},
   "outputs": [],
   "source": [
    "# array size is determined by feature's array. It is all about starting point.\n",
    "w = np.array([1.,1.,1.,1.])\n",
    "\n",
    "#Learning algorithm\n",
    "eta = 0.0001\n",
    "\n",
    "for epoch in range(10000):\n",
    "    f_est = f(features, w)\n",
    "    e = target - f_est\n",
    "    # Feature matrix transposed \n",
    "    dE = -features.T.dot(e)\n",
    "    \n",
    "    w = w - eta * dE\n",
    "\n",
    "#print(\"f_est: \", f_est)\n",
    "#print(\"target: \", target)\n",
    "#print(\"e: \", e)\n",
    "#print(\"dE: \",dE)\n",
    "#print(w)\n",
    "    "
   ]
  },
  {
   "cell_type": "code",
   "execution_count": 35,
   "metadata": {},
   "outputs": [
    {
     "data": {
      "text/plain": [
       "array([[50.,  0.,  0.],\n",
       "       [ 0., 48.,  2.],\n",
       "       [ 0.,  4., 46.]])"
      ]
     },
     "execution_count": 35,
     "metadata": {},
     "output_type": "execute_result"
    }
   ],
   "source": [
    "f_est = f(features, w)\n",
    "result = np.round(f_est)\n",
    "\n",
    "#A confusion matrix is a table that is used to evaluate the performance of a classification model. \n",
    "#The fundamental of a confusion matrix is the number of correct result is represented in the diagonal\n",
    "#It is a 3*3 matrix because we have 1,2, and 3 in our class(target).\n",
    "confusion_matrix = np.zeros((3,3))\n",
    "\n",
    "for i in range(len(result)):\n",
    "    confusion_matrix[int(target[i] - 1), int(result[i] - 1)] += 1\n",
    "    \n",
    "confusion_matrix"
   ]
  },
  {
   "cell_type": "code",
   "execution_count": 36,
   "metadata": {},
   "outputs": [
    {
     "name": "stdout",
     "output_type": "stream",
     "text": [
      "Accuracy is: 96.0 %\n"
     ]
    }
   ],
   "source": [
    "accuracy = np.sum(np.diag(confusion_matrix))/np.sum(confusion_matrix)\n",
    "\n",
    "print(\"Accuracy is:\", accuracy*100, \"%\")"
   ]
  },
  {
   "cell_type": "code",
   "execution_count": null,
   "metadata": {},
   "outputs": [],
   "source": []
  }
 ],
 "metadata": {
  "kernelspec": {
   "display_name": "Python 3",
   "language": "python",
   "name": "python3"
  },
  "language_info": {
   "codemirror_mode": {
    "name": "ipython",
    "version": 3
   },
   "file_extension": ".py",
   "mimetype": "text/x-python",
   "name": "python",
   "nbconvert_exporter": "python",
   "pygments_lexer": "ipython3",
   "version": "3.6.5"
  }
 },
 "nbformat": 4,
 "nbformat_minor": 2
}
