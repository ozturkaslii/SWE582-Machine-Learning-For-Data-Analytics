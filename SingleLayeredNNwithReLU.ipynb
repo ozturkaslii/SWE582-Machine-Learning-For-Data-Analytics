{
 "cells": [
  {
   "cell_type": "code",
   "execution_count": 2,
   "metadata": {},
   "outputs": [],
   "source": [
    "import numpy as np\n",
    "import matplotlib.pyplot as plt\n",
    "import torch"
   ]
  },
  {
   "cell_type": "code",
   "execution_count": 9,
   "metadata": {},
   "outputs": [],
   "source": [
    "x_train = np.array([[3.3], [4.4], [5.5], [6.71], [6.93], [4.168],\n",
    "                    [9.779], [6.182], [7.59], [2.167], [7.042],\n",
    "                    [10.791], [5.313], [7.997], [3.1]],\n",
    "                    dtype = np.float32)\n",
    "y_train = np.array([[1.7], [2.76], [2.09], [3.19], [1.694], [1.573],\n",
    "                    [3.366], [2.596], [2.53], [1.221], [2.827],\n",
    "                    [3.465], [1.65], [2.904], [1.3]],\n",
    "                    dtype = np.float32)"
   ]
  },
  {
   "cell_type": "code",
   "execution_count": 10,
   "metadata": {},
   "outputs": [
    {
     "data": {
      "image/png": "[encoded data removed]",
      "text/plain": [
       "<Figure size 432x288 with 1 Axes>"
      ]
     },
     "metadata": {},
     "output_type": "display_data"
    }
   ],
   "source": [
    "plt.plot(x_train, y_train, 'ro', label='Original Data')\n",
    "plt.show()"
   ]
  },
  {
   "cell_type": "code",
   "execution_count": 22,
   "metadata": {},
   "outputs": [],
   "source": [
    "X_train = torch.from_numpy(x_train)\n",
    "Y_train = torch.from_numpy(y_train)"
   ]
  },
  {
   "cell_type": "code",
   "execution_count": 23,
   "metadata": {},
   "outputs": [],
   "source": [
    "input_size = 1\n",
    "# single layer with 100 neurons\n",
    "hidden_size = 100\n",
    "output_size = 1\n",
    "learning_rate = 0.000006"
   ]
  },
  {
   "cell_type": "code",
   "execution_count": 30,
   "metadata": {},
   "outputs": [
    {
     "data": {
      "text/plain": [
       "torch.Size([1, 100])"
      ]
     },
     "execution_count": 30,
     "metadata": {},
     "output_type": "execute_result"
    }
   ],
   "source": [
    "w1 = torch.rand(input_size, hidden_size, requires_grad=True)\n",
    "w1.shape"
   ]
  },
  {
   "cell_type": "code",
   "execution_count": 31,
   "metadata": {},
   "outputs": [
    {
     "data": {
      "text/plain": [
       "torch.Size([100, 1])"
      ]
     },
     "execution_count": 31,
     "metadata": {},
     "output_type": "execute_result"
    }
   ],
   "source": [
    "w2 = torch.rand(hidden_size, output_size, requires_grad=True)\n",
    "w2.shape"
   ]
  },
  {
   "cell_type": "code",
   "execution_count": 32,
   "metadata": {},
   "outputs": [
    {
     "name": "stdout",
     "output_type": "stream",
     "text": [
      "50 3.632634162902832\n",
      "100 3.6326258182525635\n",
      "150 3.632627010345459\n",
      "200 3.632627487182617\n",
      "250 3.632627487182617\n",
      "300 3.6326282024383545\n"
     ]
    }
   ],
   "source": [
    "for iter in range(1, 301):\n",
    "    \n",
    "    # clamp negative numbers to zero. i.e ReLU activation\n",
    "    y_pred = X_train.mm(w1).clamp(min=0).mm(w2)\n",
    "    loss = (y_pred - Y_train).pow(2).sum() # MSE Loss\n",
    "    \n",
    "    if iter % 50 == 0:\n",
    "        print(iter, loss.item())\n",
    "    \n",
    "    # Use autograd for an automated way of implementing the backward pass through the neural network\n",
    "    loss.backward()\n",
    "    \n",
    "    # Once gradient have been computed, we manually updated the model weights.\n",
    "    with torch.no_grad():\n",
    "        w1 -= learning_rate * w1.grad\n",
    "        w2 -= learning_rate * w2.grad\n",
    "        w1.grad.zero_()\n",
    "        w2.grad.zero_()"
   ]
  },
  {
   "cell_type": "code",
   "execution_count": 33,
   "metadata": {},
   "outputs": [
    {
     "name": "stdout",
     "output_type": "stream",
     "text": [
      "w1:  tensor([[ 0.3259,  0.2629,  0.4507,  0.7686,  0.1117,  0.1692, -0.1246,  0.2412,\n",
      "          0.5869, -0.0098,  0.2961,  0.1691, -0.0110,  0.9244,  0.1608,  0.0528,\n",
      "          0.3896,  0.4183,  0.3733, -0.0458,  0.5841,  0.2970,  0.0451,  0.5246,\n",
      "          1.0145,  0.4098,  0.1451,  0.0849,  0.3681,  0.4008,  0.2630,  0.7423,\n",
      "          0.0580,  0.6135,  0.0856,  0.4898, -0.0092, -0.0150,  0.0838,  0.1860,\n",
      "          0.8907,  1.0218,  0.5578,  0.3130,  0.7194, -0.0180,  0.7046, -0.0010,\n",
      "          0.5389, -0.0017, -0.1198, -0.0018, -0.0847,  0.1373, -0.0660, -0.0187,\n",
      "         -0.0119,  0.1503,  0.1424,  0.7235,  0.2276,  0.4991,  0.5094,  0.4997,\n",
      "          0.4374,  0.3073,  0.6321,  0.4806,  0.7805,  0.0042,  0.7923,  0.2977,\n",
      "         -0.0381,  0.3122,  0.9280, -0.0364,  0.6316,  0.0517,  0.3181,  1.0429,\n",
      "          0.1960,  0.3813,  0.4107, -0.0751, -0.0057,  0.5305, -0.0065,  0.3614,\n",
      "         -0.0036,  0.1491,  0.7458, -0.0100,  0.4737, -0.0636, -0.0034,  0.4091,\n",
      "          0.0002,  0.3634,  0.3908,  0.5601]], requires_grad=True)\n",
      "w2:  tensor([[ 0.6431],\n",
      "        [ 0.0847],\n",
      "        [-0.1868],\n",
      "        [-0.3714],\n",
      "        [ 0.2077],\n",
      "        [-0.0089],\n",
      "        [ 0.9697],\n",
      "        [-0.0067],\n",
      "        [-0.1368],\n",
      "        [ 0.6043],\n",
      "        [ 0.4900],\n",
      "        [ 0.6554],\n",
      "        [ 0.4404],\n",
      "        [-0.4123],\n",
      "        [ 0.7582],\n",
      "        [ 0.7059],\n",
      "        [ 0.6169],\n",
      "        [ 0.0557],\n",
      "        [ 0.4995],\n",
      "        [ 0.8205],\n",
      "        [-0.0688],\n",
      "        [ 0.1024],\n",
      "        [ 0.0550],\n",
      "        [ 0.3078],\n",
      "        [-0.4524],\n",
      "        [ 0.1825],\n",
      "        [ 0.0564],\n",
      "        [ 0.7521],\n",
      "        [ 0.3497],\n",
      "        [ 0.1905],\n",
      "        [ 0.5120],\n",
      "        [-0.2753],\n",
      "        [ 0.7834],\n",
      "        [ 0.0614],\n",
      "        [ 0.1862],\n",
      "        [-0.2292],\n",
      "        [ 0.5801],\n",
      "        [ 0.7502],\n",
      "        [ 0.0736],\n",
      "        [ 0.6089],\n",
      "        [-0.2278],\n",
      "        [-0.4751],\n",
      "        [ 0.0761],\n",
      "        [ 0.1868],\n",
      "        [ 0.1166],\n",
      "        [ 0.9459],\n",
      "        [ 0.0297],\n",
      "        [ 0.9128],\n",
      "        [-0.0522],\n",
      "        [ 0.2931],\n",
      "        [ 0.9734],\n",
      "        [ 0.8039],\n",
      "        [ 0.9386],\n",
      "        [ 0.2344],\n",
      "        [ 0.4174],\n",
      "        [ 0.8494],\n",
      "        [ 0.9332],\n",
      "        [ 0.2989],\n",
      "        [ 0.4285],\n",
      "        [-0.2737],\n",
      "        [ 0.5813],\n",
      "        [-0.2411],\n",
      "        [ 0.0917],\n",
      "        [ 0.2467],\n",
      "        [-0.0558],\n",
      "        [-0.0976],\n",
      "        [ 0.0229],\n",
      "        [ 0.3646],\n",
      "        [-0.1919],\n",
      "        [ 0.2148],\n",
      "        [ 0.0680],\n",
      "        [ 0.2940],\n",
      "        [ 0.8313],\n",
      "        [ 0.6659],\n",
      "        [-0.2216],\n",
      "        [ 0.5724],\n",
      "        [-0.2207],\n",
      "        [ 0.5919],\n",
      "        [-0.0655],\n",
      "        [-0.4789],\n",
      "        [-0.0862],\n",
      "        [ 0.2764],\n",
      "        [-0.0076],\n",
      "        [ 0.6251],\n",
      "        [ 0.5131],\n",
      "        [ 0.0490],\n",
      "        [ 0.7631],\n",
      "        [ 0.2019],\n",
      "        [ 0.4376],\n",
      "        [ 0.1706],\n",
      "        [-0.1275],\n",
      "        [ 0.6980],\n",
      "        [ 0.3373],\n",
      "        [ 0.9579],\n",
      "        [ 0.3911],\n",
      "        [ 0.3513],\n",
      "        [ 0.3074],\n",
      "        [ 0.2070],\n",
      "        [ 0.2926],\n",
      "        [ 0.4950]], requires_grad=True)\n"
     ]
    }
   ],
   "source": [
    "print(\"w1: \", w1)\n",
    "print(\"w2: \", w2)"
   ]
  },
  {
   "cell_type": "code",
   "execution_count": 34,
   "metadata": {},
   "outputs": [
    {
     "data": {
      "text/plain": [
       "tensor([[ 3.3000],\n",
       "        [ 4.4000],\n",
       "        [ 5.5000],\n",
       "        [ 6.7100],\n",
       "        [ 6.9300],\n",
       "        [ 4.1680],\n",
       "        [ 9.7790],\n",
       "        [ 6.1820],\n",
       "        [ 7.5900],\n",
       "        [ 2.1670],\n",
       "        [ 7.0420],\n",
       "        [10.7910],\n",
       "        [ 5.3130],\n",
       "        [ 7.9970],\n",
       "        [ 3.1000]])"
      ]
     },
     "execution_count": 34,
     "metadata": {},
     "output_type": "execute_result"
    }
   ],
   "source": [
    "x_train_tensor = torch.from_numpy(x_train)\n",
    "x_train_tensor"
   ]
  },
  {
   "cell_type": "code",
   "execution_count": 35,
   "metadata": {},
   "outputs": [
    {
     "data": {
      "text/plain": [
       "tensor([[1.2115],\n",
       "        [1.6153],\n",
       "        [2.0191],\n",
       "        [2.4634],\n",
       "        [2.5441],\n",
       "        [1.5301],\n",
       "        [3.5900],\n",
       "        [2.2695],\n",
       "        [2.7864],\n",
       "        [0.7955],\n",
       "        [2.5852],\n",
       "        [3.9616],\n",
       "        [1.9505],\n",
       "        [2.9358],\n",
       "        [1.1381]], grad_fn=<MmBackward>)"
      ]
     },
     "execution_count": 35,
     "metadata": {},
     "output_type": "execute_result"
    }
   ],
   "source": [
    "predicted_in_tensor = x_train_tensor.mm(w1).clamp(min=0).mm(w2)\n",
    "predicted_in_tensor"
   ]
  },
  {
   "cell_type": "code",
   "execution_count": 36,
   "metadata": {},
   "outputs": [
    {
     "data": {
      "text/plain": [
       "array([[1.2114849],\n",
       "       [1.6153133],\n",
       "       [2.019142 ],\n",
       "       [2.4633532],\n",
       "       [2.5441194],\n",
       "       [1.5301425],\n",
       "       [3.590033 ],\n",
       "       [2.2695158],\n",
       "       [2.786416 ],\n",
       "       [0.7955422],\n",
       "       [2.585235 ],\n",
       "       [3.9615564],\n",
       "       [1.950491 ],\n",
       "       [2.935832 ],\n",
       "       [1.1380615]], dtype=float32)"
      ]
     },
     "execution_count": 36,
     "metadata": {},
     "output_type": "execute_result"
    }
   ],
   "source": [
    "# Detach the tensor from the current graph so no gradients are computed on the new tensor\n",
    "predicted = predicted_in_tensor.detach().numpy()\n",
    "predicted"
   ]
  },
  {
   "cell_type": "code",
   "execution_count": 37,
   "metadata": {},
   "outputs": [
    {
     "data": {
      "image/png": "[encoded data removed]",
      "text/plain": [
       "<Figure size 432x288 with 1 Axes>"
      ]
     },
     "metadata": {},
     "output_type": "display_data"
    }
   ],
   "source": [
    "plt.plot(x_train, y_train, 'ro', label='Original Data')\n",
    "plt.plot(x_train, predicted, label = 'Fitted Line')\n",
    "\n",
    "plt.legend()\n",
    "\n",
    "plt.show()"
   ]
  },
  {
   "cell_type": "code",
   "execution_count": null,
   "metadata": {},
   "outputs": [],
   "source": []
  }
 ],
 "metadata": {
  "kernelspec": {
   "display_name": "Python 3",
   "language": "python",
   "name": "python3"
  },
  "language_info": {
   "codemirror_mode": {
    "name": "ipython",
    "version": 3
   },
   "file_extension": ".py",
   "mimetype": "text/x-python",
   "name": "python",
   "nbconvert_exporter": "python",
   "pygments_lexer": "ipython3",
   "version": "3.6.5"
  }
 },
 "nbformat": 4,
 "nbformat_minor": 2
}
